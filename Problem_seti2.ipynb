{
  "nbformat": 4,
  "nbformat_minor": 0,
  "metadata": {
    "colab": {
      "name": "Problem seti2.ipynb",
      "provenance": [],
      "collapsed_sections": [],
      "authorship_tag": "ABX9TyPa5TGiKn/sZytus6QOGZve",
      "include_colab_link": true
    },
    "kernelspec": {
      "display_name": "Python 3",
      "name": "python3"
    }
  },
  "cells": [
    {
      "cell_type": "markdown",
      "metadata": {
        "id": "view-in-github",
        "colab_type": "text"
      },
      "source": [
        "<a href=\"https://colab.research.google.com/github/emrekaymaz/PG1926/blob/main/Problem_seti2.ipynb\" target=\"_parent\"><img src=\"https://colab.research.google.com/assets/colab-badge.svg\" alt=\"Open In Colab\"/></a>"
      ]
    },
    {
      "cell_type": "code",
      "metadata": {
        "colab": {
          "base_uri": "https://localhost:8080/"
        },
        "id": "fy0F7u5tP5xk",
        "outputId": "3ebe5e3e-37c9-4efd-ba2f-941ea00fa914"
      },
      "source": [
        "def kontrol(str):\r\n",
        "    count1 = 1\r\n",
        "    say = 0\r\n",
        "    for ch in str:\r\n",
        "        say += 1\r\n",
        "        if ch == '@':\r\n",
        "            say1 = say\r\n",
        "            if (str[0:say-1].isidentifier()==False):\r\n",
        "                break\r\n",
        "            for ch1 in str[say:]:\r\n",
        "                say += 1\r\n",
        "                if ch1 == '.':\r\n",
        "                    if (str[say1:say - 1].isalnum() == False):\r\n",
        "                        break\r\n",
        "                    for ch2 in str[say:say + 4]:\r\n",
        "                        if ch2 == '.':\r\n",
        "                            for num in str[say:]:\r\n",
        "                                say += 1\r\n",
        "                                count1 += 1\r\n",
        "    if count1 != 1:\r\n",
        "        return True\r\n",
        "    else:\r\n",
        "        return False\r\n",
        "\r\n",
        "\r\n",
        "mail = input('Mail : ')\r\n",
        "if (kontrol(mail) == True):\r\n",
        "    print('Mail adresiniz doğrudur')\r\n",
        "else:\r\n",
        "    print('Mail adresiniz yanlıştır')"
      ],
      "execution_count": 5,
      "outputs": [
        {
          "output_type": "stream",
          "text": [
            "Mail : gazi?@gazi.edu.tr\n",
            "Mail adresiniz yanlıştır\n"
          ],
          "name": "stdout"
        }
      ]
    },
    {
      "cell_type": "code",
      "metadata": {
        "id": "y1pH845nzTbl"
      },
      "source": [
        "kullanici= '0123456789abcdefghijklmnopqrstuvwxyzABCDEFGHIJKLMNOPQRSTUVWXYZ_-'\r\n",
        "webadi= '0123456789abcdefghijklmnopqrstuvwxyzABCDEFGHIJKLMNOPQRSTUVWXYZ'"
      ],
      "execution_count": null,
      "outputs": []
    }
  ]
}